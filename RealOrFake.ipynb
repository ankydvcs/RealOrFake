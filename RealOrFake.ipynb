{
  "nbformat": 4,
  "nbformat_minor": 0,
  "metadata": {
    "accelerator": "GPU",
    "colab": {
      "name": "CS765_FakeReal.ipynb",
      "provenance": [],
      "collapsed_sections": [],
      "toc_visible": true
    },
    "kernelspec": {
      "display_name": "Python 3",
      "name": "python3"
    }
  },
  "cells": [
    {
      "cell_type": "markdown",
      "metadata": {
        "id": "SxIOXbvsYOK4"
      },
      "source": [
        "# A. Import libraries"
      ]
    },
    {
      "cell_type": "code",
      "metadata": {
        "id": "5IUTfxHPgV_k"
      },
      "source": [
        "import numpy as np\n",
        "import pandas as pd\n",
        "import seaborn as sns\n",
        "import matplotlib.pyplot as plt\n",
        "\n",
        "import re\n",
        "import string\n",
        "import itertools\n",
        "\n",
        "from nltk.corpus import stopwords\n",
        "\n",
        "from sklearn.model_selection import train_test_split\n",
        "from sklearn.feature_extraction.text import CountVectorizer, TfidfVectorizer\n",
        "from sklearn.metrics import accuracy_score, confusion_matrix\n",
        "from sklearn.linear_model import LogisticRegression\n",
        "from sklearn.naive_bayes import MultinomialNB\n",
        "from sklearn.svm import SVC\n",
        "\n",
        "import keras\n",
        "from keras.preprocessing import text, sequence\n",
        "from keras.models import Sequential\n",
        "from keras.layers import Dense,Embedding,LSTM,Dropout\n",
        "from keras.callbacks import ReduceLROnPlateau"
      ],
      "execution_count": 1,
      "outputs": []
    },
    {
      "cell_type": "markdown",
      "metadata": {
        "id": "pw47wGnF0jgQ"
      },
      "source": [
        "# B. Load Data"
      ]
    },
    {
      "cell_type": "code",
      "metadata": {
        "id": "Ar_oru1LYMh8"
      },
      "source": [
        "# Read from csv files\n",
        "true = pd.read_csv(\"drive/MyDrive/Temporary/data/True.csv\")\n",
        "fake = pd.read_csv(\"drive/MyDrive/Temporary/data/Fake.csv\")"
      ],
      "execution_count": 2,
      "outputs": []
    },
    {
      "cell_type": "code",
      "metadata": {
        "colab": {
          "base_uri": "https://localhost:8080/",
          "height": 204
        },
        "id": "p_a7W0ziYM-5",
        "outputId": "d4fb0fb3-36b6-4bb6-81df-63c50b661b63"
      },
      "source": [
        "true.head()"
      ],
      "execution_count": 3,
      "outputs": [
        {
          "output_type": "execute_result",
          "data": {
            "text/html": [
              "<div>\n",
              "<style scoped>\n",
              "    .dataframe tbody tr th:only-of-type {\n",
              "        vertical-align: middle;\n",
              "    }\n",
              "\n",
              "    .dataframe tbody tr th {\n",
              "        vertical-align: top;\n",
              "    }\n",
              "\n",
              "    .dataframe thead th {\n",
              "        text-align: right;\n",
              "    }\n",
              "</style>\n",
              "<table border=\"1\" class=\"dataframe\">\n",
              "  <thead>\n",
              "    <tr style=\"text-align: right;\">\n",
              "      <th></th>\n",
              "      <th>title</th>\n",
              "      <th>text</th>\n",
              "      <th>subject</th>\n",
              "      <th>date</th>\n",
              "    </tr>\n",
              "  </thead>\n",
              "  <tbody>\n",
              "    <tr>\n",
              "      <th>0</th>\n",
              "      <td>As U.S. budget fight looms, Republicans flip t...</td>\n",
              "      <td>WASHINGTON (Reuters) - The head of a conservat...</td>\n",
              "      <td>politicsNews</td>\n",
              "      <td>December 31, 2017</td>\n",
              "    </tr>\n",
              "    <tr>\n",
              "      <th>1</th>\n",
              "      <td>U.S. military to accept transgender recruits o...</td>\n",
              "      <td>WASHINGTON (Reuters) - Transgender people will...</td>\n",
              "      <td>politicsNews</td>\n",
              "      <td>December 29, 2017</td>\n",
              "    </tr>\n",
              "    <tr>\n",
              "      <th>2</th>\n",
              "      <td>Senior U.S. Republican senator: 'Let Mr. Muell...</td>\n",
              "      <td>WASHINGTON (Reuters) - The special counsel inv...</td>\n",
              "      <td>politicsNews</td>\n",
              "      <td>December 31, 2017</td>\n",
              "    </tr>\n",
              "    <tr>\n",
              "      <th>3</th>\n",
              "      <td>FBI Russia probe helped by Australian diplomat...</td>\n",
              "      <td>WASHINGTON (Reuters) - Trump campaign adviser ...</td>\n",
              "      <td>politicsNews</td>\n",
              "      <td>December 30, 2017</td>\n",
              "    </tr>\n",
              "    <tr>\n",
              "      <th>4</th>\n",
              "      <td>Trump wants Postal Service to charge 'much mor...</td>\n",
              "      <td>SEATTLE/WASHINGTON (Reuters) - President Donal...</td>\n",
              "      <td>politicsNews</td>\n",
              "      <td>December 29, 2017</td>\n",
              "    </tr>\n",
              "  </tbody>\n",
              "</table>\n",
              "</div>"
            ],
            "text/plain": [
              "                                               title  ...                date\n",
              "0  As U.S. budget fight looms, Republicans flip t...  ...  December 31, 2017 \n",
              "1  U.S. military to accept transgender recruits o...  ...  December 29, 2017 \n",
              "2  Senior U.S. Republican senator: 'Let Mr. Muell...  ...  December 31, 2017 \n",
              "3  FBI Russia probe helped by Australian diplomat...  ...  December 30, 2017 \n",
              "4  Trump wants Postal Service to charge 'much mor...  ...  December 29, 2017 \n",
              "\n",
              "[5 rows x 4 columns]"
            ]
          },
          "metadata": {
            "tags": []
          },
          "execution_count": 3
        }
      ]
    },
    {
      "cell_type": "code",
      "metadata": {
        "colab": {
          "base_uri": "https://localhost:8080/",
          "height": 204
        },
        "id": "XtjjDSE8lHmA",
        "outputId": "8b5c2fbc-374f-4629-97de-0f8ab80245fe"
      },
      "source": [
        "fake.head()"
      ],
      "execution_count": 4,
      "outputs": [
        {
          "output_type": "execute_result",
          "data": {
            "text/html": [
              "<div>\n",
              "<style scoped>\n",
              "    .dataframe tbody tr th:only-of-type {\n",
              "        vertical-align: middle;\n",
              "    }\n",
              "\n",
              "    .dataframe tbody tr th {\n",
              "        vertical-align: top;\n",
              "    }\n",
              "\n",
              "    .dataframe thead th {\n",
              "        text-align: right;\n",
              "    }\n",
              "</style>\n",
              "<table border=\"1\" class=\"dataframe\">\n",
              "  <thead>\n",
              "    <tr style=\"text-align: right;\">\n",
              "      <th></th>\n",
              "      <th>title</th>\n",
              "      <th>text</th>\n",
              "      <th>subject</th>\n",
              "      <th>date</th>\n",
              "    </tr>\n",
              "  </thead>\n",
              "  <tbody>\n",
              "    <tr>\n",
              "      <th>0</th>\n",
              "      <td>Donald Trump Sends Out Embarrassing New Year’...</td>\n",
              "      <td>Donald Trump just couldn t wish all Americans ...</td>\n",
              "      <td>News</td>\n",
              "      <td>December 31, 2017</td>\n",
              "    </tr>\n",
              "    <tr>\n",
              "      <th>1</th>\n",
              "      <td>Drunk Bragging Trump Staffer Started Russian ...</td>\n",
              "      <td>House Intelligence Committee Chairman Devin Nu...</td>\n",
              "      <td>News</td>\n",
              "      <td>December 31, 2017</td>\n",
              "    </tr>\n",
              "    <tr>\n",
              "      <th>2</th>\n",
              "      <td>Sheriff David Clarke Becomes An Internet Joke...</td>\n",
              "      <td>On Friday, it was revealed that former Milwauk...</td>\n",
              "      <td>News</td>\n",
              "      <td>December 30, 2017</td>\n",
              "    </tr>\n",
              "    <tr>\n",
              "      <th>3</th>\n",
              "      <td>Trump Is So Obsessed He Even Has Obama’s Name...</td>\n",
              "      <td>On Christmas day, Donald Trump announced that ...</td>\n",
              "      <td>News</td>\n",
              "      <td>December 29, 2017</td>\n",
              "    </tr>\n",
              "    <tr>\n",
              "      <th>4</th>\n",
              "      <td>Pope Francis Just Called Out Donald Trump Dur...</td>\n",
              "      <td>Pope Francis used his annual Christmas Day mes...</td>\n",
              "      <td>News</td>\n",
              "      <td>December 25, 2017</td>\n",
              "    </tr>\n",
              "  </tbody>\n",
              "</table>\n",
              "</div>"
            ],
            "text/plain": [
              "                                               title  ...               date\n",
              "0   Donald Trump Sends Out Embarrassing New Year’...  ...  December 31, 2017\n",
              "1   Drunk Bragging Trump Staffer Started Russian ...  ...  December 31, 2017\n",
              "2   Sheriff David Clarke Becomes An Internet Joke...  ...  December 30, 2017\n",
              "3   Trump Is So Obsessed He Even Has Obama’s Name...  ...  December 29, 2017\n",
              "4   Pope Francis Just Called Out Donald Trump Dur...  ...  December 25, 2017\n",
              "\n",
              "[5 rows x 4 columns]"
            ]
          },
          "metadata": {
            "tags": []
          },
          "execution_count": 4
        }
      ]
    },
    {
      "cell_type": "code",
      "metadata": {
        "id": "iFfA55EqlfHg"
      },
      "source": [
        "# Set category values & concatenate datasets\n",
        "true['category'] = 1\n",
        "fake['category'] = 0\n",
        "df = pd.concat([true,fake])"
      ],
      "execution_count": 5,
      "outputs": []
    },
    {
      "cell_type": "code",
      "metadata": {
        "colab": {
          "base_uri": "https://localhost:8080/",
          "height": 204
        },
        "id": "oZxvhoLNll2-",
        "outputId": "5b08e41f-0010-4426-ae6a-f5699692fe70"
      },
      "source": [
        "df.head()"
      ],
      "execution_count": 6,
      "outputs": [
        {
          "output_type": "execute_result",
          "data": {
            "text/html": [
              "<div>\n",
              "<style scoped>\n",
              "    .dataframe tbody tr th:only-of-type {\n",
              "        vertical-align: middle;\n",
              "    }\n",
              "\n",
              "    .dataframe tbody tr th {\n",
              "        vertical-align: top;\n",
              "    }\n",
              "\n",
              "    .dataframe thead th {\n",
              "        text-align: right;\n",
              "    }\n",
              "</style>\n",
              "<table border=\"1\" class=\"dataframe\">\n",
              "  <thead>\n",
              "    <tr style=\"text-align: right;\">\n",
              "      <th></th>\n",
              "      <th>title</th>\n",
              "      <th>text</th>\n",
              "      <th>subject</th>\n",
              "      <th>date</th>\n",
              "      <th>category</th>\n",
              "    </tr>\n",
              "  </thead>\n",
              "  <tbody>\n",
              "    <tr>\n",
              "      <th>0</th>\n",
              "      <td>As U.S. budget fight looms, Republicans flip t...</td>\n",
              "      <td>WASHINGTON (Reuters) - The head of a conservat...</td>\n",
              "      <td>politicsNews</td>\n",
              "      <td>December 31, 2017</td>\n",
              "      <td>1</td>\n",
              "    </tr>\n",
              "    <tr>\n",
              "      <th>1</th>\n",
              "      <td>U.S. military to accept transgender recruits o...</td>\n",
              "      <td>WASHINGTON (Reuters) - Transgender people will...</td>\n",
              "      <td>politicsNews</td>\n",
              "      <td>December 29, 2017</td>\n",
              "      <td>1</td>\n",
              "    </tr>\n",
              "    <tr>\n",
              "      <th>2</th>\n",
              "      <td>Senior U.S. Republican senator: 'Let Mr. Muell...</td>\n",
              "      <td>WASHINGTON (Reuters) - The special counsel inv...</td>\n",
              "      <td>politicsNews</td>\n",
              "      <td>December 31, 2017</td>\n",
              "      <td>1</td>\n",
              "    </tr>\n",
              "    <tr>\n",
              "      <th>3</th>\n",
              "      <td>FBI Russia probe helped by Australian diplomat...</td>\n",
              "      <td>WASHINGTON (Reuters) - Trump campaign adviser ...</td>\n",
              "      <td>politicsNews</td>\n",
              "      <td>December 30, 2017</td>\n",
              "      <td>1</td>\n",
              "    </tr>\n",
              "    <tr>\n",
              "      <th>4</th>\n",
              "      <td>Trump wants Postal Service to charge 'much mor...</td>\n",
              "      <td>SEATTLE/WASHINGTON (Reuters) - President Donal...</td>\n",
              "      <td>politicsNews</td>\n",
              "      <td>December 29, 2017</td>\n",
              "      <td>1</td>\n",
              "    </tr>\n",
              "  </tbody>\n",
              "</table>\n",
              "</div>"
            ],
            "text/plain": [
              "                                               title  ... category\n",
              "0  As U.S. budget fight looms, Republicans flip t...  ...        1\n",
              "1  U.S. military to accept transgender recruits o...  ...        1\n",
              "2  Senior U.S. Republican senator: 'Let Mr. Muell...  ...        1\n",
              "3  FBI Russia probe helped by Australian diplomat...  ...        1\n",
              "4  Trump wants Postal Service to charge 'much mor...  ...        1\n",
              "\n",
              "[5 rows x 5 columns]"
            ]
          },
          "metadata": {
            "tags": []
          },
          "execution_count": 6
        }
      ]
    },
    {
      "cell_type": "markdown",
      "metadata": {
        "id": "v_Udu8GD1BvD"
      },
      "source": [
        "# C. Data Visualization & Preprocessing"
      ]
    },
    {
      "cell_type": "markdown",
      "metadata": {
        "id": "DJ-E_eRAPjeg"
      },
      "source": [
        "#### 1 Visualization"
      ]
    },
    {
      "cell_type": "code",
      "metadata": {
        "colab": {
          "base_uri": "https://localhost:8080/"
        },
        "id": "hODqU2zPomch",
        "outputId": "889d91de-d8cb-4637-8963-5189ec6f4e0f"
      },
      "source": [
        "# Number of data instances\n",
        "len(df)"
      ],
      "execution_count": 7,
      "outputs": [
        {
          "output_type": "execute_result",
          "data": {
            "text/plain": [
              "44898"
            ]
          },
          "metadata": {
            "tags": []
          },
          "execution_count": 7
        }
      ]
    },
    {
      "cell_type": "code",
      "metadata": {
        "colab": {
          "base_uri": "https://localhost:8080/",
          "height": 296
        },
        "id": "R8f9wkW72K29",
        "outputId": "6c5ef4f1-b8be-4d16-901a-b78f126e269c"
      },
      "source": [
        "# Check true vs fake news balance\n",
        "# Dataset is balanced\n",
        "sns.set_style(\"darkgrid\")\n",
        "sns.countplot(x=df.category)"
      ],
      "execution_count": 8,
      "outputs": [
        {
          "output_type": "execute_result",
          "data": {
            "text/plain": [
              "<matplotlib.axes._subplots.AxesSubplot at 0x7f6ba4ce60b8>"
            ]
          },
          "metadata": {
            "tags": []
          },
          "execution_count": 8
        },
        {
          "output_type": "display_data",
          "data": {
            "image/png": "[encoded data removed]",
            "text/plain": [
              "<Figure size 432x288 with 1 Axes>"
            ]
          },
          "metadata": {
            "tags": []
          }
        }
      ]
    },
    {
      "cell_type": "code",
      "metadata": {
        "colab": {
          "base_uri": "https://localhost:8080/"
        },
        "id": "gQNlY9zWpA5i",
        "outputId": "ab4e0837-3da0-4ae5-e7c5-4198df2ba562"
      },
      "source": [
        "# Check for nan values\n",
        "# No NaN values present\n",
        "df.isna().sum()"
      ],
      "execution_count": 9,
      "outputs": [
        {
          "output_type": "execute_result",
          "data": {
            "text/plain": [
              "title       0\n",
              "text        0\n",
              "subject     0\n",
              "date        0\n",
              "category    0\n",
              "dtype: int64"
            ]
          },
          "metadata": {
            "tags": []
          },
          "execution_count": 9
        }
      ]
    },
    {
      "cell_type": "code",
      "metadata": {
        "colab": {
          "base_uri": "https://localhost:8080/",
          "height": 752
        },
        "id": "j5t8iIf_f6gQ",
        "outputId": "c2abf3e7-83ce-41bf-9ae9-3fe4529fb16a"
      },
      "source": [
        "# Plot countplot for category\n",
        "# To check if category is relevant\n",
        "plt.figure(figsize = (12,8))\n",
        "sns.set(style = \"whitegrid\",font_scale = 1.2)\n",
        "chart = sns.countplot(x = \"subject\", hue = \"category\" , data = df)\n",
        "chart.set_xticklabels(chart.get_xticklabels(),rotation=90)"
      ],
      "execution_count": 10,
      "outputs": [
        {
          "output_type": "execute_result",
          "data": {
            "text/plain": [
              "[Text(0, 0, 'politicsNews'),\n",
              " Text(0, 0, 'worldnews'),\n",
              " Text(0, 0, 'News'),\n",
              " Text(0, 0, 'politics'),\n",
              " Text(0, 0, 'Government News'),\n",
              " Text(0, 0, 'left-news'),\n",
              " Text(0, 0, 'US_News'),\n",
              " Text(0, 0, 'Middle-east')]"
            ]
          },
          "metadata": {
            "tags": []
          },
          "execution_count": 10
        },
        {
          "output_type": "display_data",
          "data": {
            "image/png": "[encoded data removed]",
            "text/plain": [
              "<Figure size 864x576 with 1 Axes>"
            ]
          },
          "metadata": {
            "tags": []
          }
        }
      ]
    },
    {
      "cell_type": "code",
      "metadata": {
        "colab": {
          "base_uri": "https://localhost:8080/",
          "height": 204
        },
        "id": "pMa3SjAF0N5r",
        "outputId": "936c81d4-1e19-4d15-878a-649da5555306"
      },
      "source": [
        "# Since the topics in subject column are different for both true & fake categories, the 'category' column is redundant.\n",
        "# Hence we merge all the text data into 1 column i.e. 'text' & remove redundant columns.\n",
        "df['text'] = df['text'] + \" \" + df['title']\n",
        "del df['title']\n",
        "del df['subject']\n",
        "del df['date']\n",
        "df.head()"
      ],
      "execution_count": 11,
      "outputs": [
        {
          "output_type": "execute_result",
          "data": {
            "text/html": [
              "<div>\n",
              "<style scoped>\n",
              "    .dataframe tbody tr th:only-of-type {\n",
              "        vertical-align: middle;\n",
              "    }\n",
              "\n",
              "    .dataframe tbody tr th {\n",
              "        vertical-align: top;\n",
              "    }\n",
              "\n",
              "    .dataframe thead th {\n",
              "        text-align: right;\n",
              "    }\n",
              "</style>\n",
              "<table border=\"1\" class=\"dataframe\">\n",
              "  <thead>\n",
              "    <tr style=\"text-align: right;\">\n",
              "      <th></th>\n",
              "      <th>text</th>\n",
              "      <th>category</th>\n",
              "    </tr>\n",
              "  </thead>\n",
              "  <tbody>\n",
              "    <tr>\n",
              "      <th>0</th>\n",
              "      <td>WASHINGTON (Reuters) - The head of a conservat...</td>\n",
              "      <td>1</td>\n",
              "    </tr>\n",
              "    <tr>\n",
              "      <th>1</th>\n",
              "      <td>WASHINGTON (Reuters) - Transgender people will...</td>\n",
              "      <td>1</td>\n",
              "    </tr>\n",
              "    <tr>\n",
              "      <th>2</th>\n",
              "      <td>WASHINGTON (Reuters) - The special counsel inv...</td>\n",
              "      <td>1</td>\n",
              "    </tr>\n",
              "    <tr>\n",
              "      <th>3</th>\n",
              "      <td>WASHINGTON (Reuters) - Trump campaign adviser ...</td>\n",
              "      <td>1</td>\n",
              "    </tr>\n",
              "    <tr>\n",
              "      <th>4</th>\n",
              "      <td>SEATTLE/WASHINGTON (Reuters) - President Donal...</td>\n",
              "      <td>1</td>\n",
              "    </tr>\n",
              "  </tbody>\n",
              "</table>\n",
              "</div>"
            ],
            "text/plain": [
              "                                                text  category\n",
              "0  WASHINGTON (Reuters) - The head of a conservat...         1\n",
              "1  WASHINGTON (Reuters) - Transgender people will...         1\n",
              "2  WASHINGTON (Reuters) - The special counsel inv...         1\n",
              "3  WASHINGTON (Reuters) - Trump campaign adviser ...         1\n",
              "4  SEATTLE/WASHINGTON (Reuters) - President Donal...         1"
            ]
          },
          "metadata": {
            "tags": []
          },
          "execution_count": 11
        }
      ]
    },
    {
      "cell_type": "markdown",
      "metadata": {
        "id": "c8jRMPBglebA"
      },
      "source": [
        "#### 2 Clean Data"
      ]
    },
    {
      "cell_type": "code",
      "metadata": {
        "id": "UPAfYE7llf9_"
      },
      "source": [
        "def denoise_text(text):\n",
        "    text = re.sub('\\[[^]]*\\]', '', text)  # Remove square brackets\n",
        "    text = re.sub(\"[^\\w]\", \" \",text)      # Remove square brackets\n",
        "    text = re.sub(r\"\\.\", \" \", text)       # Remove periods\n",
        "    text = re.sub(r'http\\S+', '', text)   # Remove urls\n",
        "    text = re.sub(r\"!\", \" ! \", text)      # Remove exclamations\n",
        "    text = re.sub(r\"\\/\", \" \", text)       # Remove forward slash\n",
        "    text = re.sub(r\"\\^\", \" ^ \", text)     # Remove exponent symbol\n",
        "    text = re.sub(r\"\\+\", \" + \", text)     # Remove addition symbol\n",
        "    text = re.sub(r\"\\-\", \" - \", text)     # Remove hyphens\n",
        "    text = re.sub(r\"\\=\", \" = \", text)     # Remove equal symbol\n",
        "    return text\n",
        "\n",
        "df['text'] = df['text'].apply(lambda s:s.lower() if type(s) == str else s) # Convert to lowercase\n",
        "df['text'] = df['text'].apply(denoise_text)"
      ],
      "execution_count": 12,
      "outputs": []
    },
    {
      "cell_type": "markdown",
      "metadata": {
        "id": "XYnaTLqHiE_a"
      },
      "source": [
        "#### 3 Stopwords Removal"
      ]
    },
    {
      "cell_type": "code",
      "metadata": {
        "colab": {
          "base_uri": "https://localhost:8080/"
        },
        "id": "sg_VP0fEiHFv",
        "outputId": "58e91d28-476c-4892-8e8f-e26ea0f97093"
      },
      "source": [
        "import nltk\n",
        "nltk.download('stopwords')\n",
        "stop = set(stopwords.words('english'))\n",
        "punctuation = list(string.punctuation)\n",
        "stop.update(punctuation) "
      ],
      "execution_count": 13,
      "outputs": [
        {
          "output_type": "stream",
          "text": [
            "[nltk_data] Downloading package stopwords to /root/nltk_data...\n",
            "[nltk_data]   Unzipping corpora/stopwords.zip.\n"
          ],
          "name": "stdout"
        }
      ]
    },
    {
      "cell_type": "code",
      "metadata": {
        "id": "zSHsweyOPuDC"
      },
      "source": [
        "\n",
        "def remove_stopwords(text):\n",
        "    final_text = []\n",
        "    for i in text.split():\n",
        "        if i.strip().lower() not in stop:\n",
        "            final_text.append(i.strip())\n",
        "    return \" \".join(final_text)\n",
        "\n",
        "df['text'] = df['text'].apply(remove_stopwords)"
      ],
      "execution_count": 14,
      "outputs": []
    },
    {
      "cell_type": "code",
      "metadata": {
        "colab": {
          "base_uri": "https://localhost:8080/",
          "height": 204
        },
        "id": "RXJ9EGGnPyVO",
        "outputId": "b696b75c-ead8-464a-8e55-ccb3ab081c0e"
      },
      "source": [
        "df.head()"
      ],
      "execution_count": 15,
      "outputs": [
        {
          "output_type": "execute_result",
          "data": {
            "text/html": [
              "<div>\n",
              "<style scoped>\n",
              "    .dataframe tbody tr th:only-of-type {\n",
              "        vertical-align: middle;\n",
              "    }\n",
              "\n",
              "    .dataframe tbody tr th {\n",
              "        vertical-align: top;\n",
              "    }\n",
              "\n",
              "    .dataframe thead th {\n",
              "        text-align: right;\n",
              "    }\n",
              "</style>\n",
              "<table border=\"1\" class=\"dataframe\">\n",
              "  <thead>\n",
              "    <tr style=\"text-align: right;\">\n",
              "      <th></th>\n",
              "      <th>text</th>\n",
              "      <th>category</th>\n",
              "    </tr>\n",
              "  </thead>\n",
              "  <tbody>\n",
              "    <tr>\n",
              "      <th>0</th>\n",
              "      <td>washington reuters head conservative republica...</td>\n",
              "      <td>1</td>\n",
              "    </tr>\n",
              "    <tr>\n",
              "      <th>1</th>\n",
              "      <td>washington reuters transgender people allowed ...</td>\n",
              "      <td>1</td>\n",
              "    </tr>\n",
              "    <tr>\n",
              "      <th>2</th>\n",
              "      <td>washington reuters special counsel investigati...</td>\n",
              "      <td>1</td>\n",
              "    </tr>\n",
              "    <tr>\n",
              "      <th>3</th>\n",
              "      <td>washington reuters trump campaign adviser geor...</td>\n",
              "      <td>1</td>\n",
              "    </tr>\n",
              "    <tr>\n",
              "      <th>4</th>\n",
              "      <td>seattle washington reuters president donald tr...</td>\n",
              "      <td>1</td>\n",
              "    </tr>\n",
              "  </tbody>\n",
              "</table>\n",
              "</div>"
            ],
            "text/plain": [
              "                                                text  category\n",
              "0  washington reuters head conservative republica...         1\n",
              "1  washington reuters transgender people allowed ...         1\n",
              "2  washington reuters special counsel investigati...         1\n",
              "3  washington reuters trump campaign adviser geor...         1\n",
              "4  seattle washington reuters president donald tr...         1"
            ]
          },
          "metadata": {
            "tags": []
          },
          "execution_count": 15
        }
      ]
    },
    {
      "cell_type": "markdown",
      "metadata": {
        "id": "NMZ15s613Uu-"
      },
      "source": [
        "# D. Data Representation"
      ]
    },
    {
      "cell_type": "markdown",
      "metadata": {
        "id": "BKAWMZ4diJKX"
      },
      "source": [
        "#### Split data into train & test set"
      ]
    },
    {
      "cell_type": "code",
      "metadata": {
        "id": "VE4APrbcpM-C"
      },
      "source": [
        "x_train, x_test, y_train, y_test = train_test_split(df.text, df.category, test_size=0.2, random_state=42)"
      ],
      "execution_count": 16,
      "outputs": []
    },
    {
      "cell_type": "markdown",
      "metadata": {
        "id": "t82EtdB434mC"
      },
      "source": [
        "### 1 Bag of Words"
      ]
    },
    {
      "cell_type": "code",
      "metadata": {
        "id": "B8Nl8YeCQw5B"
      },
      "source": [
        "bow_vectorizer = CountVectorizer(ngram_range=(1,1))"
      ],
      "execution_count": 17,
      "outputs": []
    },
    {
      "cell_type": "code",
      "metadata": {
        "id": "8euPZiNnQzTp"
      },
      "source": [
        "bow_train = bow_vectorizer.fit_transform(x_train)\n",
        "bow_test = bow_vectorizer.transform(x_test)"
      ],
      "execution_count": 18,
      "outputs": []
    },
    {
      "cell_type": "code",
      "metadata": {
        "colab": {
          "base_uri": "https://localhost:8080/"
        },
        "id": "IVCYFvijRi7G",
        "outputId": "0e1cab1e-3eda-4717-a678-1bf385e6d612"
      },
      "source": [
        "# 10 vocabulary items\n",
        "list(bow_vectorizer.vocabulary_.items())[:10]"
      ],
      "execution_count": 19,
      "outputs": [
        {
          "output_type": "execute_result",
          "data": {
            "text/plain": [
              "[('story', 94442),\n",
              " ('2006', 1364),\n",
              " ('first', 38630),\n",
              " ('long', 60103),\n",
              " ('series', 88963),\n",
              " ('hillary', 46849),\n",
              " ('lies', 59186),\n",
              " ('exposing', 36664),\n",
              " ('next', 69425),\n",
              " ('couple', 26271)]"
            ]
          },
          "metadata": {
            "tags": []
          },
          "execution_count": 19
        }
      ]
    },
    {
      "cell_type": "markdown",
      "metadata": {
        "id": "cT1FaEkV30ui"
      },
      "source": [
        "### 2 TF IDF"
      ]
    },
    {
      "cell_type": "code",
      "metadata": {
        "id": "WR2AdtTHuCPO"
      },
      "source": [
        "tfidf_vectorizer = TfidfVectorizer(stop_words='english', max_df=0.7)"
      ],
      "execution_count": 20,
      "outputs": []
    },
    {
      "cell_type": "code",
      "metadata": {
        "id": "JcHaNWPEuDrq"
      },
      "source": [
        "tfidf_train = tfidf_vectorizer.fit_transform(x_train) \n",
        "tfidf_test = tfidf_vectorizer.transform(x_test)"
      ],
      "execution_count": 21,
      "outputs": []
    },
    {
      "cell_type": "code",
      "metadata": {
        "colab": {
          "base_uri": "https://localhost:8080/"
        },
        "id": "p3kcfuyj37pY",
        "outputId": "c0e12c19-0185-41dc-d5a7-e5a5746a1c63"
      },
      "source": [
        "# 10 vocabulary items\n",
        "list(tfidf_vectorizer.vocabulary_.items())[:10]"
      ],
      "execution_count": 22,
      "outputs": [
        {
          "output_type": "execute_result",
          "data": {
            "text/plain": [
              "[('story', 94292),\n",
              " ('2006', 1364),\n",
              " ('long', 60010),\n",
              " ('series', 88828),\n",
              " ('hillary', 46768),\n",
              " ('lies', 59093),\n",
              " ('exposing', 36604),\n",
              " ('couple', 26233),\n",
              " ('months', 66277),\n",
              " ('decade', 28629)]"
            ]
          },
          "metadata": {
            "tags": []
          },
          "execution_count": 22
        }
      ]
    },
    {
      "cell_type": "markdown",
      "metadata": {
        "id": "-EAMUsvzVDkZ"
      },
      "source": [
        "### 3 GloVe Embeddings"
      ]
    },
    {
      "cell_type": "code",
      "metadata": {
        "id": "zhx1LMOBcVv-"
      },
      "source": [
        "max_features = 10000\n",
        "maxlen = 300"
      ],
      "execution_count": 23,
      "outputs": []
    },
    {
      "cell_type": "code",
      "metadata": {
        "id": "XVAiFXD3ZDr0"
      },
      "source": [
        "# fitting tokenizer on train dataset\n",
        "tokenizer = text.Tokenizer(num_words=max_features)\n",
        "tokenizer.fit_on_texts(x_train)\n",
        "# generating the sequences using tokenizer now\n",
        "tokenized_train = tokenizer.texts_to_sequences(x_train)\n",
        "# padding sequences here to max_len specified above i.e. 300\n",
        "X_train = sequence.pad_sequences(tokenized_train, maxlen=maxlen)\n"
      ],
      "execution_count": 24,
      "outputs": []
    },
    {
      "cell_type": "code",
      "metadata": {
        "colab": {
          "base_uri": "https://localhost:8080/"
        },
        "id": "gcmmlCseqzV-",
        "outputId": "9bb27aa9-1417-4932-c97c-ac4e6aa37825"
      },
      "source": [
        "print(len(tokenized_train))\n",
        "print(len(x_train))"
      ],
      "execution_count": 25,
      "outputs": [
        {
          "output_type": "stream",
          "text": [
            "35918\n",
            "35918\n"
          ],
          "name": "stdout"
        }
      ]
    },
    {
      "cell_type": "code",
      "metadata": {
        "colab": {
          "base_uri": "https://localhost:8080/"
        },
        "id": "6VwpWfCoqWTC",
        "outputId": "09975f8f-b984-424c-990c-c888e5f412e9"
      },
      "source": [
        "#checking the output corresponding to the text\n",
        "print(x_train[0:5])\n",
        "print(tokenized_train[0:5])"
      ],
      "execution_count": 26,
      "outputs": [
        {
          "output_type": "stream",
          "text": [
            "14918    story 2006 first long series hillary lies expo...\n",
            "12384    paris reuters leaders european union remaining...\n",
            "3002     star wars icon mark hamill previously mocked d...\n",
            "3323     whiner chief struck yet another early morning ...\n",
            "5622     donald trump much foreign policy experience lo...\n",
            "Name: text, dtype: object\n",
            "[[196, 2672, 32, 129, 1119, 34, 1186, 4102, 136, 1409, 232, 1467, 7, 1518, 145, 34, 8663, 12, 7555, 1038, 5959, 34, 5601, 196, 37, 8004, 62, 12, 1778, 2417, 12, 25, 2, 1038, 5959, 7597, 190, 196, 1022, 1516, 8172, 1180, 256, 1021, 257, 1965, 2, 5423, 980, 25, 44, 5959, 5785, 853, 32, 360, 1244, 1288, 5601, 5063, 2081, 164, 5959, 2417, 12, 2, 1022, 8663, 129, 23, 1038, 3271, 27, 3069, 608, 1582, 6555, 34, 2417, 12, 2, 28, 164, 5959, 1189, 74, 34, 655, 23, 5959, 34, 37, 273, 62, 12, 2245, 196, 3403, 316, 34, 12, 1787, 967, 375, 976, 3002, 7, 294, 4473, 196, 40, 2881, 5959, 853, 3271, 2417, 12, 1709, 1189, 75, 5893, 34, 1186, 1205, 34, 3586, 1038, 3271, 347], [923, 14, 197, 329, 354, 2292, 1092, 274, 17, 228, 2485, 68, 126, 2060, 200, 4733, 451, 243, 358, 3053, 2556, 319, 1062, 625, 349, 2, 116, 248, 197, 600, 1056, 334, 121, 3768, 1145, 51, 128, 476, 822, 3945, 62, 3037, 214, 538, 1164, 243, 136, 3053, 248, 305, 5233, 31, 68, 197, 2485, 568, 185, 319, 248, 197, 228, 306, 113, 601, 9, 3053, 822, 319], [872, 2627, 6845, 798, 854, 3769, 15, 1, 2441, 7, 4, 715, 769, 1519, 1519, 970, 423, 1575, 60, 1, 2182, 4795, 4, 715, 175, 3956, 8930, 6733, 6, 78, 798, 872, 2627, 11, 8378, 1575, 2446, 1575, 2528, 423, 4692, 4693, 1, 2117, 3603, 8173, 9264, 1, 1237, 3657, 57, 434, 313, 1080, 93, 7, 143, 372, 4959, 176, 1478, 1095, 925, 432, 4483, 7, 143, 372, 4959, 176, 1478, 1095, 272, 244, 57, 148, 798, 310, 824, 68, 1, 925, 8930, 6733, 7, 6556, 1274, 78, 1192, 31, 339, 4202, 34, 565, 294, 28, 146, 3769, 3375, 914, 5, 146, 826, 558, 749, 285, 1614, 1479, 885, 19, 156, 196, 1501, 155, 55, 302, 541, 4601, 39, 3683, 4, 6, 1428, 3715, 6, 24, 8930, 6733, 907, 544, 1568, 1301, 1074, 262, 642, 7751, 57, 513, 333, 90, 2404, 756, 1362, 100, 3468, 313, 617, 136, 970, 2306, 693, 1842, 8607, 1220, 208, 8379, 165, 625, 37, 984, 3469, 86, 984, 2489, 851, 2330, 153, 970, 4, 1373, 57, 1065, 157, 877, 75, 798, 60, 4795, 1, 2441, 162, 6733, 970], [200, 2060, 262, 111, 437, 583, 57, 4880, 15, 1, 2334, 192, 565, 847, 72, 706, 328, 34, 12, 3324, 781, 513, 213, 90, 484, 1, 5338, 26, 138, 97, 2955, 37, 1304, 72, 275, 7, 8931, 31, 612, 40, 37, 1304, 744, 8084, 4, 1, 105, 5206, 1621, 847, 72, 268, 8254, 1612, 1648, 603, 1394, 3493, 1053, 355, 84, 310, 2970, 275, 1304, 744, 107, 1172, 6174, 847, 72, 34, 1548, 707, 17, 15, 630, 1, 388, 512, 1117, 5, 401, 37, 373, 26, 345, 3003, 258, 847, 72, 5, 25, 5558, 15, 630, 1, 388, 512, 1117, 8932, 37, 2061, 39, 597, 107, 167, 275, 404, 1848, 167, 3582, 1481, 4042, 381, 1215, 138, 4357, 1307, 990, 921, 5937, 8664, 2423, 192, 849, 173, 444, 167, 275, 34, 1648, 15, 630, 1, 388, 512, 1117, 61, 716, 1, 7640, 847, 72, 136, 249, 40, 5080, 2334, 1621, 57, 2118, 2442, 182, 1, 219, 388, 1205, 2, 1304, 744, 541, 5547, 512, 1117, 108, 388, 1621, 847, 72, 5464, 24, 1996, 1529, 8428, 512, 1117, 108, 388, 11, 244, 57, 148, 8174, 512, 1117, 108, 388, 174, 2, 698, 244, 57, 148, 512, 1117, 108, 388, 625, 22, 17, 63, 262, 105, 2543, 24, 1250, 5186, 512, 1117, 108, 388, 1263, 24, 105, 52, 192, 3831, 331, 122, 1440, 512, 1117, 108, 388, 310, 5694, 605, 1551, 156, 315, 676, 832, 564, 3587, 2987, 3259, 512, 1117, 108, 388, 1000, 15, 365, 78, 275, 1848, 28, 226, 2146, 512, 1117, 108, 388, 174, 884, 6668, 829, 5080, 36, 105, 372, 4545, 512, 1117, 108, 388, 244, 57, 148, 512, 1117, 481, 1, 6, 243, 26, 37, 400, 339, 467, 37, 1874, 4693, 140, 1892, 4211, 57, 2218, 149, 106, 75, 1319, 1940, 455, 380, 1, 884, 5585, 1704, 4671, 1621, 847, 72], [15, 1, 107, 89, 123, 1443, 3434, 2031, 7852, 706, 1720, 1953, 865, 1733, 2947, 6484, 4614, 1703, 89, 123, 482, 36, 2031, 7852, 4831, 4, 10, 1113, 127, 1735, 4146, 168, 1, 203, 586, 224, 4146, 1063, 1, 78, 89, 123, 584, 1929, 3260, 124, 4146, 5, 3541, 89, 123, 4146, 2389, 3195, 88, 291, 2623, 6484, 9083, 2031, 7852, 4831, 1929, 15, 1, 2759, 4435, 932, 54, 6328, 932, 78, 84, 2370, 282, 1464, 299, 2293, 436, 1205, 932, 143, 574, 38, 300, 3336, 532, 277, 7, 158, 2588, 2, 418, 266, 78, 1524, 418, 6, 509, 418, 6, 2296, 28, 560, 6, 776, 5465, 158, 2401, 3070, 189, 1308, 16, 1290, 89, 1150, 24, 189, 3283, 571, 2589, 2742, 1045, 2818, 1628, 1682, 112, 306, 932, 1, 89, 123, 2966, 256, 3974, 187, 79, 63, 32, 418, 9265, 308, 822, 718, 81, 137, 267, 827, 6, 8933, 6203, 125, 4423, 9474, 205, 1, 371, 3625, 181, 371, 98, 1781, 1164, 3413, 7817, 3645, 9984, 1308, 32, 9265, 63, 32, 9265, 1897, 117, 319, 1002, 80, 2031, 7852, 273, 379, 1443, 551, 291, 7, 948, 181, 81, 4146, 1699, 1, 5339, 3093, 603, 63, 32, 1820, 409, 1113, 3583, 4559, 25, 5408, 51, 89, 181, 2813, 25, 2343, 4146, 9896, 318, 149, 106, 2997, 3803, 455, 380, 10, 1113, 127, 1, 89, 123, 863, 3195]]\n"
          ],
          "name": "stdout"
        }
      ]
    },
    {
      "cell_type": "code",
      "metadata": {
        "id": "7xMZMCYQZEYF"
      },
      "source": [
        "# generating the sequences for the test data\n",
        "tokenized_test = tokenizer.texts_to_sequences(x_test)\n",
        "# doing padding over the test data\n",
        "X_test = sequence.pad_sequences(tokenized_test, maxlen=maxlen)"
      ],
      "execution_count": 27,
      "outputs": []
    },
    {
      "cell_type": "code",
      "metadata": {
        "id": "CgFr4xdZrcTa"
      },
      "source": [
        "word_index=tokenizer.word_index"
      ],
      "execution_count": 28,
      "outputs": []
    },
    {
      "cell_type": "code",
      "metadata": {
        "colab": {
          "base_uri": "https://localhost:8080/"
        },
        "id": "dxlQ8JxBrZfD",
        "outputId": "40780768-93e4-4656-e897-274eecaceb2d"
      },
      "source": [
        "word_index['story']"
      ],
      "execution_count": 29,
      "outputs": [
        {
          "output_type": "execute_result",
          "data": {
            "text/plain": [
              "196"
            ]
          },
          "metadata": {
            "tags": []
          },
          "execution_count": 29
        }
      ]
    },
    {
      "cell_type": "code",
      "metadata": {
        "id": "N_EeYJmPVIkc"
      },
      "source": [
        "EMBEDDING_FILE = 'drive/MyDrive/Temporary/data/glove.6B.100d.txt'"
      ],
      "execution_count": 30,
      "outputs": []
    },
    {
      "cell_type": "code",
      "metadata": {
        "id": "hcD9mjKIWm_S"
      },
      "source": [
        "# reading the glove file\n",
        "embedding_dict={}\n",
        "with open(EMBEDDING_FILE) as f:\n",
        "  for item in f:\n",
        "    values = item.split()\n",
        "    word=values[0]\n",
        "    vectors = np.asarray(values[1:],\"float32\")\n",
        "    embedding_dict[word] = vectors\n",
        "f.close()"
      ],
      "execution_count": 31,
      "outputs": []
    },
    {
      "cell_type": "code",
      "metadata": {
        "id": "UpkX1yVVWogH"
      },
      "source": [
        "#making the embedding matrix here\n",
        "num_words = len(word_index) + 1\n",
        "embedding_matrix = np.zeros((max_features,100))\n",
        "for word,i in word_index.items():\n",
        "  if(i<max_features):\n",
        "    emb_vec = embedding_dict.get(word)\n",
        "    if(emb_vec is not None):\n",
        "      embedding_matrix[i] = emb_vec"
      ],
      "execution_count": 32,
      "outputs": []
    },
    {
      "cell_type": "code",
      "metadata": {
        "colab": {
          "base_uri": "https://localhost:8080/"
        },
        "id": "4netPXEJtXTp",
        "outputId": "869bfbf7-c19f-454f-fe57-99a55de65e6c"
      },
      "source": [
        "num_words"
      ],
      "execution_count": 33,
      "outputs": [
        {
          "output_type": "execute_result",
          "data": {
            "text/plain": [
              "110519"
            ]
          },
          "metadata": {
            "tags": []
          },
          "execution_count": 33
        }
      ]
    },
    {
      "cell_type": "code",
      "metadata": {
        "colab": {
          "base_uri": "https://localhost:8080/"
        },
        "id": "Lc6tEKVipbLV",
        "outputId": "1d78fe10-c453-4e5f-c527-94eb1c5b871f"
      },
      "source": [
        "#checking the entries are same at both the places or not\n",
        "(embedding_matrix[196] == embedding_dict[\"story\"]).all()"
      ],
      "execution_count": 34,
      "outputs": [
        {
          "output_type": "execute_result",
          "data": {
            "text/plain": [
              "True"
            ]
          },
          "metadata": {
            "tags": []
          },
          "execution_count": 34
        }
      ]
    },
    {
      "cell_type": "code",
      "metadata": {
        "colab": {
          "base_uri": "https://localhost:8080/"
        },
        "id": "aTMy5CSXrp0o",
        "outputId": "309886e4-0899-412d-ee20-e1d1ff31d6ed"
      },
      "source": [
        "embedding_matrix.shape"
      ],
      "execution_count": 35,
      "outputs": [
        {
          "output_type": "execute_result",
          "data": {
            "text/plain": [
              "(10000, 100)"
            ]
          },
          "metadata": {
            "tags": []
          },
          "execution_count": 35
        }
      ]
    },
    {
      "cell_type": "markdown",
      "metadata": {
        "id": "mYf5x1TvEKoB"
      },
      "source": [
        "# E. Models"
      ]
    },
    {
      "cell_type": "markdown",
      "metadata": {
        "id": "DtoyVB-hKxDk"
      },
      "source": [
        "### Logistic Regression (using BoW)"
      ]
    },
    {
      "cell_type": "code",
      "metadata": {
        "colab": {
          "base_uri": "https://localhost:8080/"
        },
        "id": "IyFoDlbKLBAW",
        "outputId": "20de1ea1-dbfd-41a8-f196-84f1bfff05b8"
      },
      "source": [
        "logregBOW = LogisticRegression(max_iter=10000)\n",
        "logregBOW.fit(bow_train, y_train)\n",
        "score = logregBOW.score(bow_test, y_test)\n",
        "print(f'Accuracy: {round(score*100,2)}%')"
      ],
      "execution_count": null,
      "outputs": [
        {
          "output_type": "stream",
          "text": [
            "Accuracy: 99.59%\n"
          ],
          "name": "stdout"
        }
      ]
    },
    {
      "cell_type": "code",
      "metadata": {
        "colab": {
          "base_uri": "https://localhost:8080/"
        },
        "id": "oTN9jI0ONHrB",
        "outputId": "0c82d1e1-ab32-4186-801f-4f198ceb3315"
      },
      "source": [
        "pred_logreg_bow = logregBOW.predict(bow_test)\n",
        "confusion_matrix(y_test, pred_logreg_bow)"
      ],
      "execution_count": null,
      "outputs": [
        {
          "output_type": "execute_result",
          "data": {
            "text/plain": [
              "array([[4625,   25],\n",
              "       [  12, 4318]])"
            ]
          },
          "metadata": {
            "tags": []
          },
          "execution_count": 37
        }
      ]
    },
    {
      "cell_type": "markdown",
      "metadata": {
        "id": "drIYmlcuLCUT"
      },
      "source": [
        "### Multinomial Naive Bayes (using BoW)"
      ]
    },
    {
      "cell_type": "code",
      "metadata": {
        "colab": {
          "base_uri": "https://localhost:8080/"
        },
        "id": "NVu8NVmmLOJt",
        "outputId": "36c975d0-d698-4241-b36e-c24cfe5e25e9"
      },
      "source": [
        "nbBOW = MultinomialNB()\n",
        "nbBOW.fit(bow_train, y_train)\n",
        "score = nbBOW.score(bow_test, y_test)\n",
        "print(f'Accuracy: {round(score*100,2)}%')"
      ],
      "execution_count": null,
      "outputs": [
        {
          "output_type": "stream",
          "text": [
            "Accuracy: 95.43%\n"
          ],
          "name": "stdout"
        }
      ]
    },
    {
      "cell_type": "code",
      "metadata": {
        "colab": {
          "base_uri": "https://localhost:8080/"
        },
        "id": "Lm3GwYhRNexe",
        "outputId": "cacc3089-26b6-423f-e7b4-38d2f89d0a78"
      },
      "source": [
        "pred_nb_bow = nbBOW.predict(bow_test)\n",
        "confusion_matrix(y_test, pred_nb_bow)"
      ],
      "execution_count": null,
      "outputs": [
        {
          "output_type": "execute_result",
          "data": {
            "text/plain": [
              "array([[4428,  222],\n",
              "       [ 188, 4142]])"
            ]
          },
          "metadata": {
            "tags": []
          },
          "execution_count": 39
        }
      ]
    },
    {
      "cell_type": "markdown",
      "metadata": {
        "id": "W5HmSurMwDH9"
      },
      "source": [
        "### SVM (using BOW)"
      ]
    },
    {
      "cell_type": "code",
      "metadata": {
        "colab": {
          "background_save": true
        },
        "id": "GQ1kFnHiwF5d",
        "outputId": "7f015cf0-c17f-499a-86a1-5c982d11483a"
      },
      "source": [
        "clfBOW = SVC(kernel='linear') \n",
        "clfBOW.fit(tfidf_train,y_train) \n",
        "score = clfBOW.score(tfidf_test, y_test)\n",
        "print(f'Accuracy: {round(score*100,2)}%')"
      ],
      "execution_count": null,
      "outputs": [
        {
          "output_type": "stream",
          "text": [
            "Accuracy: 99.31%\n"
          ],
          "name": "stdout"
        }
      ]
    },
    {
      "cell_type": "code",
      "metadata": {
        "colab": {
          "background_save": true
        },
        "id": "5UBcIjhvwGSL",
        "outputId": "fa1b6a2a-7421-41c6-f9ca-af9f01f55659"
      },
      "source": [
        "pred_clf_bow = clfBOW.predict(tfidf_test)\n",
        "confusion_matrix(y_test,pred_clf_bow)"
      ],
      "execution_count": null,
      "outputs": [
        {
          "output_type": "execute_result",
          "data": {
            "text/plain": [
              "array([[4608,   42],\n",
              "       [  20, 4310]])"
            ]
          },
          "metadata": {
            "tags": []
          },
          "execution_count": 0
        }
      ]
    },
    {
      "cell_type": "markdown",
      "metadata": {
        "id": "ACwElRoFFvCg"
      },
      "source": [
        "### Logistic Regression (using TFIDF)"
      ]
    },
    {
      "cell_type": "code",
      "metadata": {
        "colab": {
          "background_save": true
        },
        "id": "kEzb-8rFD96X",
        "outputId": "378e1aa7-a564-4222-9b6c-c6e752d18318"
      },
      "source": [
        "logregTFIDF = LogisticRegression()\n",
        "logregTFIDF.fit(tfidf_train, y_train)\n",
        "score = logregTFIDF.score(tfidf_test, y_test)\n",
        "print(f'Accuracy: {round(score*100,2)}%')"
      ],
      "execution_count": null,
      "outputs": [
        {
          "output_type": "stream",
          "text": [
            "Accuracy: 98.62%\n"
          ],
          "name": "stdout"
        }
      ]
    },
    {
      "cell_type": "code",
      "metadata": {
        "colab": {
          "background_save": true
        },
        "id": "9MBmIEwQHoZ3",
        "outputId": "da3fd181-929b-4c76-a7d8-32a3398d1cdf"
      },
      "source": [
        "pred_logreg_tfidf = logregTFIDF.predict(tfidf_test)\n",
        "confusion_matrix(y_test, pred_logreg_tfidf)"
      ],
      "execution_count": null,
      "outputs": [
        {
          "output_type": "execute_result",
          "data": {
            "text/plain": [
              "array([[4576,   74],\n",
              "       [  50, 4280]])"
            ]
          },
          "metadata": {
            "tags": []
          },
          "execution_count": 0
        }
      ]
    },
    {
      "cell_type": "markdown",
      "metadata": {
        "id": "oPmehdvcFx1p"
      },
      "source": [
        "### Multinomial Naive Bayes (using TFIDF)"
      ]
    },
    {
      "cell_type": "code",
      "metadata": {
        "colab": {
          "background_save": true
        },
        "id": "SsS1w3sqF2eM",
        "outputId": "3f774759-fa24-4ce5-8ba8-0eb460715ab2"
      },
      "source": [
        "nbTFIDF = MultinomialNB()\n",
        "nbTFIDF.fit(tfidf_train, y_train)\n",
        "score = nbTFIDF.score(tfidf_test, y_test)\n",
        "print(f'Accuracy: {round(score*100,2)}%')"
      ],
      "execution_count": null,
      "outputs": [
        {
          "output_type": "stream",
          "text": [
            "Accuracy: 93.46%\n"
          ],
          "name": "stdout"
        }
      ]
    },
    {
      "cell_type": "code",
      "metadata": {
        "colab": {
          "background_save": true
        },
        "id": "bY4Dm215IDXG",
        "outputId": "bfb6e8f1-b7bb-47f7-a1c4-ff23fcc4b1f4"
      },
      "source": [
        "pred_nb_tfidf = nbTFIDF.predict(tfidf_test)\n",
        "confusion_matrix(y_test, pred_nb_tfidf)"
      ],
      "execution_count": null,
      "outputs": [
        {
          "output_type": "execute_result",
          "data": {
            "text/plain": [
              "array([[4371,  279],\n",
              "       [ 308, 4022]])"
            ]
          },
          "metadata": {
            "tags": []
          },
          "execution_count": 0
        }
      ]
    },
    {
      "cell_type": "markdown",
      "metadata": {
        "id": "IwIIurjEvVBh"
      },
      "source": [
        "### SVM (using TFIDF)"
      ]
    },
    {
      "cell_type": "code",
      "metadata": {
        "id": "jqUJU2qRYvkC",
        "colab": {
          "base_uri": "https://localhost:8080/"
        },
        "outputId": "8ef020fc-5153-4d10-8fa4-455744e68be7"
      },
      "source": [
        "clfTFIDF = SVC(kernel='linear') \n",
        "clfTFIDF.fit(tfidf_train,y_train) \n",
        "score = clfTFIDF.score(tfidf_test, y_test)\n",
        "print(f'Accuracy: {round(score*100,2)}%')"
      ],
      "execution_count": 36,
      "outputs": [
        {
          "output_type": "stream",
          "text": [
            "Accuracy: 99.31%\n"
          ],
          "name": "stdout"
        }
      ]
    },
    {
      "cell_type": "code",
      "metadata": {
        "id": "9DlxByGzfUq5",
        "colab": {
          "base_uri": "https://localhost:8080/"
        },
        "outputId": "934e5d0e-d2ad-4fc9-fc4a-addec00562a8"
      },
      "source": [
        "pred_clf_tfidf = clfTFIDF.predict(tfidf_test)\n",
        "confusion_matrix(y_test,pred_clf_tfidf)"
      ],
      "execution_count": 37,
      "outputs": [
        {
          "output_type": "execute_result",
          "data": {
            "text/plain": [
              "array([[4608,   42],\n",
              "       [  20, 4310]])"
            ]
          },
          "metadata": {
            "tags": []
          },
          "execution_count": 37
        }
      ]
    },
    {
      "cell_type": "markdown",
      "metadata": {
        "id": "3WnamqLsaBDn"
      },
      "source": [
        "### LSTM (using GloVe embeddings)"
      ]
    },
    {
      "cell_type": "code",
      "metadata": {
        "id": "dWHcg5cHZ_Ub"
      },
      "source": [
        "batch_size = 256\n",
        "epochs = 10\n",
        "embed_size = 100"
      ],
      "execution_count": 38,
      "outputs": []
    },
    {
      "cell_type": "code",
      "metadata": {
        "id": "LQCk28tGaGf6"
      },
      "source": [
        "learning_rate_reduction = ReduceLROnPlateau(monitor='val_accuracy', patience = 2, verbose=1,factor=0.5, min_lr = 0.00001)"
      ],
      "execution_count": 39,
      "outputs": []
    },
    {
      "cell_type": "code",
      "metadata": {
        "id": "jpMDJuU5aIgw"
      },
      "source": [
        "#Defining Neural Network\n",
        "model = Sequential()\n",
        "#Non-trainable embeddidng layer\n",
        "model.add(Embedding(max_features, output_dim=embed_size, weights=[embedding_matrix], input_length=maxlen, trainable=False))\n",
        "#LSTM \n",
        "model.add(LSTM(units=128 , return_sequences = True , recurrent_dropout = 0.25 , dropout = 0.25))\n",
        "model.add(LSTM(units=64 , recurrent_dropout = 0.1 , dropout = 0.1))\n",
        "model.add(Dense(units = 32 , activation = 'relu'))\n",
        "model.add(Dense(1, activation='sigmoid'))\n",
        "model.compile(optimizer=keras.optimizers.Adam(lr = 0.01), loss='binary_crossentropy', metrics=['accuracy'])"
      ],
      "execution_count": null,
      "outputs": []
    },
    {
      "cell_type": "code",
      "metadata": {
        "id": "OvSc_edGaKdB",
        "colab": {
          "base_uri": "https://localhost:8080/"
        },
        "outputId": "e399884b-4cb4-4b5e-b780-d1015c251c46"
      },
      "source": [
        "model.summary()"
      ],
      "execution_count": 41,
      "outputs": [
        {
          "output_type": "stream",
          "text": [
            "Model: \"sequential\"\n",
            "_________________________________________________________________\n",
            "Layer (type)                 Output Shape              Param #   \n",
            "=================================================================\n",
            "embedding (Embedding)        (None, 300, 100)          1000000   \n",
            "_________________________________________________________________\n",
            "lstm (LSTM)                  (None, 300, 128)          117248    \n",
            "_________________________________________________________________\n",
            "lstm_1 (LSTM)                (None, 64)                49408     \n",
            "_________________________________________________________________\n",
            "dense (Dense)                (None, 32)                2080      \n",
            "_________________________________________________________________\n",
            "dense_1 (Dense)              (None, 1)                 33        \n",
            "=================================================================\n",
            "Total params: 1,168,769\n",
            "Trainable params: 168,769\n",
            "Non-trainable params: 1,000,000\n",
            "_________________________________________________________________\n"
          ],
          "name": "stdout"
        }
      ]
    },
    {
      "cell_type": "code",
      "metadata": {
        "id": "rFbE3urzaNgL",
        "colab": {
          "base_uri": "https://localhost:8080/"
        },
        "outputId": "dd294dd4-fdd4-4e47-e9ca-ce02ae1da058"
      },
      "source": [
        "history = model.fit(X_train, y_train, batch_size = batch_size , validation_data = (X_test,y_test) , epochs = epochs , callbacks = [learning_rate_reduction])"
      ],
      "execution_count": 42,
      "outputs": [
        {
          "output_type": "stream",
          "text": [
            "Epoch 1/10\n",
            "141/141 [==============================] - 423s 3s/step - loss: 0.2021 - accuracy: 0.9099 - val_loss: 0.0442 - val_accuracy: 0.9874\n",
            "Epoch 2/10\n",
            "141/141 [==============================] - 422s 3s/step - loss: 0.0638 - accuracy: 0.9808 - val_loss: 0.0242 - val_accuracy: 0.9912\n",
            "Epoch 3/10\n",
            "141/141 [==============================] - 421s 3s/step - loss: 0.0238 - accuracy: 0.9923 - val_loss: 0.0166 - val_accuracy: 0.9941\n",
            "Epoch 4/10\n",
            "141/141 [==============================] - 421s 3s/step - loss: 0.0176 - accuracy: 0.9942 - val_loss: 0.0163 - val_accuracy: 0.9951\n",
            "Epoch 5/10\n",
            "141/141 [==============================] - 422s 3s/step - loss: 0.0173 - accuracy: 0.9942 - val_loss: 0.0143 - val_accuracy: 0.9955\n",
            "Epoch 6/10\n",
            "141/141 [==============================] - 422s 3s/step - loss: 0.0135 - accuracy: 0.9961 - val_loss: 0.0301 - val_accuracy: 0.9930\n",
            "Epoch 7/10\n",
            "141/141 [==============================] - ETA: 0s - loss: 0.0105 - accuracy: 0.9967\n",
            "Epoch 00007: ReduceLROnPlateau reducing learning rate to 0.004999999888241291.\n",
            "141/141 [==============================] - 423s 3s/step - loss: 0.0105 - accuracy: 0.9967 - val_loss: 0.0128 - val_accuracy: 0.9951\n",
            "Epoch 8/10\n",
            "141/141 [==============================] - 424s 3s/step - loss: 0.0071 - accuracy: 0.9975 - val_loss: 0.0087 - val_accuracy: 0.9967\n",
            "Epoch 9/10\n",
            "141/141 [==============================] - 424s 3s/step - loss: 0.0066 - accuracy: 0.9978 - val_loss: 0.0096 - val_accuracy: 0.9965\n",
            "Epoch 10/10\n",
            "141/141 [==============================] - 420s 3s/step - loss: 0.0050 - accuracy: 0.9984 - val_loss: 0.0070 - val_accuracy: 0.9976\n"
          ],
          "name": "stdout"
        }
      ]
    },
    {
      "cell_type": "code",
      "metadata": {
        "id": "3qbstQ1paONJ",
        "colab": {
          "base_uri": "https://localhost:8080/"
        },
        "outputId": "a1f1ff7a-142c-472a-8c63-2615ec9041a0"
      },
      "source": [
        "print(\"Accuracy of the model on Training Data is - \" , model.evaluate(X_train,y_train)[1]*100 , \"%\")\n",
        "print(\"Accuracy of the model on Testing Data is - \" , model.evaluate(X_test,y_test)[1]*100 , \"%\")"
      ],
      "execution_count": 43,
      "outputs": [
        {
          "output_type": "stream",
          "text": [
            "1123/1123 [==============================] - 181s 161ms/step - loss: 7.7983e-04 - accuracy: 0.9998\n",
            "Accuracy of the model on Training Data is -  99.98329281806946 %\n",
            "281/281 [==============================] - 45s 161ms/step - loss: 0.0070 - accuracy: 0.9976\n",
            "Accuracy of the model on Testing Data is -  99.75501298904419 %\n"
          ],
          "name": "stdout"
        }
      ]
    },
    {
      "cell_type": "code",
      "metadata": {
        "id": "h79FgIOVaQZp",
        "colab": {
          "base_uri": "https://localhost:8080/",
          "height": 632
        },
        "outputId": "a5469704-e071-4815-972e-f7af671d9749"
      },
      "source": [
        "epoch_list = [i for i in range(epochs)]\n",
        "\n",
        "fig , ax = plt.subplots(1,2)\n",
        "train_acc = history.history['accuracy']\n",
        "train_loss = history.history['loss']\n",
        "val_acc = history.history['val_accuracy']\n",
        "val_loss = history.history['val_loss']\n",
        "fig.set_size_inches(20,10)\n",
        "\n",
        "ax[0].plot(epoch_list , train_acc , 'go-' , label = 'Training Accuracy')\n",
        "ax[0].plot(epoch_list , val_acc , 'ro-' , label = 'Testing Accuracy')\n",
        "ax[0].set_title('Training & Testing Accuracy')\n",
        "ax[0].legend()\n",
        "ax[0].set_xlabel(\"Epochs\")\n",
        "ax[0].set_ylabel(\"Accuracy\")\n",
        "\n",
        "ax[1].plot(epoch_list , train_loss , 'go-' , label = 'Training Loss')\n",
        "ax[1].plot(epoch_list , val_loss , 'ro-' , label = 'Testing Loss')\n",
        "ax[1].set_title('Training & Testing Loss')\n",
        "ax[1].legend()\n",
        "ax[1].set_xlabel(\"Epochs\")\n",
        "ax[1].set_ylabel(\"Loss\")\n",
        "plt.show()"
      ],
      "execution_count": 45,
      "outputs": [
        {
          "output_type": "display_data",
          "data": {
            "image/png": "[encoded data removed]",
            "text/plain": [
              "<Figure size 1440x720 with 2 Axes>"
            ]
          },
          "metadata": {
            "tags": []
          }
        }
      ]
    },
    {
      "cell_type": "code",
      "metadata": {
        "id": "y_oQ4Y1AaYIJ",
        "colab": {
          "base_uri": "https://localhost:8080/"
        },
        "outputId": "ec034441-6790-4956-b051-19b065647830"
      },
      "source": [
        "#  pred = model.predict_classes(X_test)\n",
        "pred = (model.predict(X_test) > 0.5).astype(\"int32\")\n",
        "confusion_matrix(y_test, pred)"
      ],
      "execution_count": 46,
      "outputs": [
        {
          "output_type": "execute_result",
          "data": {
            "text/plain": [
              "array([[4646,    4],\n",
              "       [  18, 4312]])"
            ]
          },
          "metadata": {
            "tags": []
          },
          "execution_count": 46
        }
      ]
    },
    {
      "cell_type": "code",
      "metadata": {
        "id": "L0UerPquxAu6",
        "colab": {
          "base_uri": "https://localhost:8080/",
          "height": 632
        },
        "outputId": "c4d692a5-ec5e-4e45-9df0-d40fb850f829"
      },
      "source": [
        "cm = confusion_matrix(y_test,pred)\n",
        "cm = pd.DataFrame(cm , index = ['Fake','Original'] , columns = ['Fake','Original'])\n",
        "plt.figure(figsize = (10,10))\n",
        "sns.heatmap(cm,cmap= \"Blues\", linecolor = 'black' , linewidth = 1 , annot = True, fmt='' , xticklabels = ['Fake','Original'] , yticklabels = ['Fake','Original'])\n",
        "plt.xlabel(\"Predicted\")\n",
        "plt.ylabel(\"Actual\")"
      ],
      "execution_count": 49,
      "outputs": [
        {
          "output_type": "execute_result",
          "data": {
            "text/plain": [
              "Text(63.5, 0.5, 'Actual')"
            ]
          },
          "metadata": {
            "tags": []
          },
          "execution_count": 49
        },
        {
          "output_type": "display_data",
          "data": {
            "image/png": "[encoded data removed]",
            "text/plain": [
              "<Figure size 720x720 with 2 Axes>"
            ]
          },
          "metadata": {
            "tags": []
          }
        }
      ]
    }
  ]
}